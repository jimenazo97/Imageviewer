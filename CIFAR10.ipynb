{
  "nbformat": 4,
  "nbformat_minor": 0,
  "metadata": {
    "colab": {
      "name": "CIFAR10.ipynb",
      "version": "0.3.2",
      "provenance": [],
      "include_colab_link": true
    },
    "kernelspec": {
      "name": "python3",
      "display_name": "Python 3"
    },
    "accelerator": "GPU"
  },
  "cells": [
    {
      "cell_type": "markdown",
      "metadata": {
        "id": "view-in-github",
        "colab_type": "text"
      },
      "source": [
        "<a href=\"https://colab.research.google.com/github/jimenazo97/Imageviewer/blob/master/CIFAR10.ipynb\" target=\"_parent\"><img src=\"https://colab.research.google.com/assets/colab-badge.svg\" alt=\"Open In Colab\"/></a>"
      ]
    },
    {
      "cell_type": "code",
      "metadata": {
        "id": "NZ0Wy9-oNkxF",
        "colab_type": "code",
        "colab": {}
      },
      "source": [
        "import numpy as np  \n",
        "from scipy import misc  \n",
        "from PIL import Image  \n",
        "import glob  \n",
        "import matplotlib.pyplot as plt  \n",
        "import scipy.misc  \n",
        "from matplotlib.pyplot import imshow  \n",
        "%matplotlib inline\n",
        "from IPython.display import SVG  \n",
        "import cv2  \n",
        "import seaborn as sn  \n",
        "import pandas as pd  \n",
        "import pickle  \n",
        "from keras import layers  \n",
        "from keras.layers import Flatten, Input, Add, Dense, Activation, ZeroPadding2D, BatchNormalization, Flatten, Conv2D, AveragePooling2D, MaxPooling2D, GlobalMaxPooling2D, Dropout  \n",
        "from keras.models import Sequential, Model, load_model  \n",
        "from keras.preprocessing import image  \n",
        "from keras.preprocessing.image import load_img  \n",
        "from keras.preprocessing.image import img_to_array  \n",
        "from keras.applications.imagenet_utils import decode_predictions  \n",
        "from keras.utils import layer_utils, np_utils  \n",
        "from keras.utils.data_utils import get_file  \n",
        "from keras.applications.imagenet_utils import preprocess_input  \n",
        "from keras.utils.vis_utils import model_to_dot  \n",
        "from keras.utils import plot_model  \n",
        "from keras.initializers import glorot_uniform  \n",
        "from keras import losses \n",
        "from keras import optimizers\n",
        "import keras.backend as K  \n",
        "from keras.callbacks import ModelCheckpoint  \n",
        "from sklearn.metrics import confusion_matrix, classification_report  \n",
        "import tensorflow as tf  "
      ],
      "execution_count": 0,
      "outputs": []
    },
    {
      "cell_type": "code",
      "metadata": {
        "id": "UM8or8zwNtWC",
        "colab_type": "code",
        "outputId": "f019d8ac-5b23-4ab3-f5cc-ee950c6653c4",
        "colab": {
          "base_uri": "https://localhost:8080/",
          "height": 51
        }
      },
      "source": [
        "from keras.datasets import cifar10\n",
        "(x_train_original, y_train_original), (x_test_original, y_test_original) = cifar10.load_data()\n",
        "#(x_train_original[43])"
      ],
      "execution_count": 0,
      "outputs": [
        {
          "output_type": "stream",
          "text": [
            "Downloading data from https://www.cs.toronto.edu/~kriz/cifar-10-python.tar.gz\n",
            "170500096/170498071 [==============================] - 351s 2us/step\n"
          ],
          "name": "stdout"
        }
      ]
    },
    {
      "cell_type": "code",
      "metadata": {
        "id": "0uFrXGDkOUUe",
        "colab_type": "code",
        "outputId": "c2338cf3-8565-424f-af79-6fa81692cc6a",
        "colab": {
          "base_uri": "https://localhost:8080/",
          "height": 34
        }
      },
      "source": [
        "#OneHot\n",
        "y_train = np_utils.to_categorical(y_train_original, 10)  \n",
        "y_test = np_utils.to_categorical(y_test_original, 10)\n",
        "(y_train[43])"
      ],
      "execution_count": 0,
      "outputs": [
        {
          "output_type": "execute_result",
          "data": {
            "text/plain": [
              "array([0., 0., 0., 0., 0., 0., 0., 1., 0., 0.], dtype=float32)"
            ]
          },
          "metadata": {
            "tags": []
          },
          "execution_count": 3
        }
      ]
    },
    {
      "cell_type": "code",
      "metadata": {
        "id": "g_AWUspfO2rb",
        "colab_type": "code",
        "outputId": "24451aad-2dfa-4272-bec4-63f8d108886a",
        "colab": {
          "base_uri": "https://localhost:8080/",
          "height": 269
        }
      },
      "source": [
        "\n",
        "imgplot = plt.imshow(x_train_original[4])  \n",
        "plt.show()  "
      ],
      "execution_count": 0,
      "outputs": [
        {
          "output_type": "display_data",
          "data": {
            "image/png": "[encoded data removed]",
            "text/plain": [
              "<Figure size 432x288 with 1 Axes>"
            ]
          },
          "metadata": {
            "tags": []
          }
        }
      ]
    },
    {
      "cell_type": "code",
      "metadata": {
        "id": "LUUbGJYYP2w-",
        "colab_type": "code",
        "colab": {}
      },
      "source": [
        "x_train = x_train_original/255  \n",
        "x_test = x_test_original/255 \n",
        "#x_train[43]"
      ],
      "execution_count": 0,
      "outputs": []
    },
    {
      "cell_type": "code",
      "metadata": {
        "id": "JpCF5dB9QBtk",
        "colab_type": "code",
        "colab": {}
      },
      "source": [
        "K.set_image_data_format('channels_last')  \n",
        "K.set_learning_phase(1)"
      ],
      "execution_count": 0,
      "outputs": []
    },
    {
      "cell_type": "code",
      "metadata": {
        "id": "DS0Ide1LQJee",
        "colab_type": "code",
        "colab": {}
      },
      "source": [
        "def create_simple_cnn():  \n",
        "  model = Sequential()\n",
        "  model.add(Conv2D(32, kernel_size=(3, 3), input_shape=(32, 32, 3), activation='relu'))\n",
        "  model.add(Conv2D(64, kernel_size=(3, 3), activation='relu'))\n",
        "  model.add(MaxPooling2D(pool_size=(2, 2)))\n",
        "\n",
        "  model.add(Conv2D(128, kernel_size=(3, 3), activation='relu'))\n",
        "  model.add(Conv2D(256, kernel_size=(3, 3), activation='relu'))\n",
        "\n",
        "  model.add(Conv2D(512, kernel_size=(3, 3), activation='relu'))\n",
        "  model.add(MaxPooling2D(pool_size=(2, 2)))\n",
        "  model.add(Conv2D(1024, kernel_size=(3, 3), activation='relu'))\n",
        "  model.add(MaxPooling2D(pool_size=(2, 2)))\n",
        "\n",
        "  model.add(Flatten())\n",
        "  model.add(Dense(500, activation='relu'))\n",
        "  model.add(Dropout(0.5))\n",
        "  model.add(Dense(10, activation='softmax'))\n",
        "\n",
        "  return model"
      ],
      "execution_count": 0,
      "outputs": []
    },
    {
      "cell_type": "code",
      "metadata": {
        "id": "MV4LdkOjQijR",
        "colab_type": "code",
        "colab": {}
      },
      "source": [
        "scnn_model = create_simple_cnn()  \n",
        "scnn_model.compile(loss='categorical_crossentropy', optimizer=optimizers.Adadelta(), metrics=['acc', 'mse'])"
      ],
      "execution_count": 0,
      "outputs": []
    },
    {
      "cell_type": "code",
      "metadata": {
        "id": "OBK3JJfSQkgK",
        "colab_type": "code",
        "outputId": "1f14dfe6-8434-4fc7-b19b-d86ccc755ae8",
        "colab": {
          "base_uri": "https://localhost:8080/",
          "height": 578
        }
      },
      "source": [
        "scnn_model.summary()  "
      ],
      "execution_count": 0,
      "outputs": [
        {
          "output_type": "stream",
          "text": [
            "_________________________________________________________________\n",
            "Layer (type)                 Output Shape              Param #   \n",
            "=================================================================\n",
            "conv2d_13 (Conv2D)           (None, 30, 30, 32)        896       \n",
            "_________________________________________________________________\n",
            "conv2d_14 (Conv2D)           (None, 28, 28, 64)        18496     \n",
            "_________________________________________________________________\n",
            "max_pooling2d_7 (MaxPooling2 (None, 14, 14, 64)        0         \n",
            "_________________________________________________________________\n",
            "conv2d_15 (Conv2D)           (None, 12, 12, 128)       73856     \n",
            "_________________________________________________________________\n",
            "conv2d_16 (Conv2D)           (None, 10, 10, 256)       295168    \n",
            "_________________________________________________________________\n",
            "conv2d_17 (Conv2D)           (None, 8, 8, 512)         1180160   \n",
            "_________________________________________________________________\n",
            "max_pooling2d_8 (MaxPooling2 (None, 4, 4, 512)         0         \n",
            "_________________________________________________________________\n",
            "conv2d_18 (Conv2D)           (None, 2, 2, 1024)        4719616   \n",
            "_________________________________________________________________\n",
            "max_pooling2d_9 (MaxPooling2 (None, 1, 1, 1024)        0         \n",
            "_________________________________________________________________\n",
            "flatten_3 (Flatten)          (None, 1024)              0         \n",
            "_________________________________________________________________\n",
            "dense_5 (Dense)              (None, 500)               512500    \n",
            "_________________________________________________________________\n",
            "dropout_3 (Dropout)          (None, 500)               0         \n",
            "_________________________________________________________________\n",
            "dense_6 (Dense)              (None, 10)                5010      \n",
            "=================================================================\n",
            "Total params: 6,805,702\n",
            "Trainable params: 6,805,702\n",
            "Non-trainable params: 0\n",
            "_________________________________________________________________\n"
          ],
          "name": "stdout"
        }
      ]
    },
    {
      "cell_type": "code",
      "metadata": {
        "id": "G2abpNTcQo6o",
        "colab_type": "code",
        "outputId": "a05abd66-356d-43c0-9ada-23180aabac8d",
        "colab": {
          "base_uri": "https://localhost:8080/",
          "height": 445
        }
      },
      "source": [
        "scnn = scnn_model.fit(x=x_train, y=y_train, batch_size=32, epochs=10, verbose=1, validation_data=(x_test, y_test), shuffle=True)"
      ],
      "execution_count": 0,
      "outputs": [
        {
          "output_type": "stream",
          "text": [
            "WARNING:tensorflow:From /usr/local/lib/python3.6/dist-packages/tensorflow/python/ops/math_ops.py:3066: to_int32 (from tensorflow.python.ops.math_ops) is deprecated and will be removed in a future version.\n",
            "Instructions for updating:\n",
            "Use tf.cast instead.\n",
            "Train on 50000 samples, validate on 10000 samples\n",
            "Epoch 1/10\n",
            "50000/50000 [==============================] - 42s 831us/step - loss: 1.8228 - acc: 0.3234 - mean_squared_error: 0.0775 - val_loss: 1.6285 - val_acc: 0.4623 - val_mean_squared_error: 0.0702\n",
            "Epoch 2/10\n",
            "50000/50000 [==============================] - 34s 675us/step - loss: 1.2171 - acc: 0.5717 - mean_squared_error: 0.0555 - val_loss: 1.0498 - val_acc: 0.6352 - val_mean_squared_error: 0.0484\n",
            "Epoch 3/10\n",
            "50000/50000 [==============================] - 34s 688us/step - loss: 0.9430 - acc: 0.6739 - mean_squared_error: 0.0438 - val_loss: 1.0145 - val_acc: 0.6665 - val_mean_squared_error: 0.0458\n",
            "Epoch 4/10\n",
            "50000/50000 [==============================] - 34s 681us/step - loss: 0.7591 - acc: 0.7411 - mean_squared_error: 0.0357 - val_loss: 1.0430 - val_acc: 0.6838 - val_mean_squared_error: 0.0445\n",
            "Epoch 5/10\n",
            "50000/50000 [==============================] - 34s 686us/step - loss: 0.6274 - acc: 0.7865 - mean_squared_error: 0.0297 - val_loss: 0.7425 - val_acc: 0.7553 - val_mean_squared_error: 0.0336\n",
            "Epoch 6/10\n",
            "50000/50000 [==============================] - 34s 683us/step - loss: 0.5145 - acc: 0.8279 - mean_squared_error: 0.0243 - val_loss: 0.7900 - val_acc: 0.7663 - val_mean_squared_error: 0.0339\n",
            "Epoch 7/10\n",
            "50000/50000 [==============================] - 34s 683us/step - loss: 0.4106 - acc: 0.8620 - mean_squared_error: 0.0198 - val_loss: 0.8512 - val_acc: 0.7511 - val_mean_squared_error: 0.0357\n",
            "Epoch 8/10\n",
            "50000/50000 [==============================] - 34s 687us/step - loss: 0.3297 - acc: 0.8913 - mean_squared_error: 0.0158 - val_loss: 0.9446 - val_acc: 0.7467 - val_mean_squared_error: 0.0371\n",
            "Epoch 9/10\n",
            "50000/50000 [==============================] - 34s 682us/step - loss: 0.2754 - acc: 0.9119 - mean_squared_error: 0.0131 - val_loss: 1.1645 - val_acc: 0.7732 - val_mean_squared_error: 0.0365\n",
            "Epoch 10/10\n",
            "50000/50000 [==============================] - 34s 686us/step - loss: 0.2419 - acc: 0.9262 - mean_squared_error: 0.0111 - val_loss: 1.2562 - val_acc: 0.7739 - val_mean_squared_error: 0.0368\n"
          ],
          "name": "stdout"
        }
      ]
    },
    {
      "cell_type": "code",
      "metadata": {
        "id": "fMVdtX7hSixA",
        "colab_type": "code",
        "outputId": "915f7cfa-dcdf-41bc-eee9-844e94beb10a",
        "colab": {
          "base_uri": "https://localhost:8080/",
          "height": 51
        }
      },
      "source": [
        "cnn_evaluation = scnn_model.evaluate(x=x_test, y=y_test, batch_size=32, verbose=1)  \n",
        "cnn_evaluation "
      ],
      "execution_count": 0,
      "outputs": [
        {
          "output_type": "stream",
          "text": [
            "10000/10000 [==============================] - 2s 153us/step\n"
          ],
          "name": "stdout"
        },
        {
          "output_type": "execute_result",
          "data": {
            "text/plain": [
              "[1.2432280014038086, 0.7745, 0.03665154003202915]"
            ]
          },
          "metadata": {
            "tags": []
          },
          "execution_count": 15
        }
      ]
    },
    {
      "cell_type": "code",
      "metadata": {
        "id": "UtADULTmSrdj",
        "colab_type": "code",
        "outputId": "838a0be4-0a1a-4629-aaee-870ed0bcffab",
        "colab": {
          "base_uri": "https://localhost:8080/",
          "height": 682
        }
      },
      "source": [
        "plt.figure(0)  \n",
        "plt.plot(scnn.history['acc'],'r')  \n",
        "plt.plot(scnn.history['val_acc'],'g')  \n",
        "plt.xticks(np.arange(0, 11, 2.0))  \n",
        "plt.rcParams['figure.figsize'] = (8, 6)  \n",
        "plt.xlabel(\"Num of Epochs\")  \n",
        "plt.ylabel(\"Accuracy\")  \n",
        "plt.title(\"Training Accuracy vs Validation Accuracy\")  \n",
        "plt.legend(['train','validation'])\n",
        "\n",
        "plt.figure(1)  \n",
        "plt.plot(scnn.history['loss'],'r')  \n",
        "plt.plot(scnn.history['val_loss'],'g')  \n",
        "plt.xticks(np.arange(0, 11, 2.0))  \n",
        "plt.rcParams['figure.figsize'] = (8, 6)  \n",
        "plt.xlabel(\"Num of Epochs\")  \n",
        "plt.ylabel(\"Loss\")  \n",
        "plt.title(\"Training Loss vs Validation Loss\")  \n",
        "plt.legend(['train','validation'])\n",
        "\n",
        "plt.show()  "
      ],
      "execution_count": 0,
      "outputs": [
        {
          "output_type": "display_data",
          "data": {
            "image/png": "[encoded data removed]",
            "text/plain": [
              "<Figure size 432x288 with 1 Axes>"
            ]
          },
          "metadata": {
            "tags": []
          }
        },
        {
          "output_type": "display_data",
          "data": {
            "image/png": "[encoded data removed]",
            "text/plain": [
              "<Figure size 576x432 with 1 Axes>"
            ]
          },
          "metadata": {
            "tags": []
          }
        }
      ]
    }
  ]
}